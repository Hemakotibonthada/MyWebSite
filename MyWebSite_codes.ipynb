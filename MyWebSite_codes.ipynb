{
 "cells": [
  {
   "cell_type": "markdown",
   "metadata": {},
   "source": [
    "npm install express cors dotenv helmet express-rate-limit express-mongo-sanitize xss-clean compression morgan winston bcrypt jsonwebtoken axios uuid\n",
    "npm install "
   ]
  },
  {
   "cell_type": "code",
   "execution_count": 1,
   "metadata": {},
   "outputs": [
    {
     "name": "stdout",
     "output_type": "stream",
     "text": [
      "Folder structure successfully created!\n"
     ]
    }
   ],
   "source": [
    "import os\n",
    "\n",
    "# Define the folder and file structure\n",
    "structure = {\n",
    "    \"MyWebSite\": {\n",
    "        \"backend\": {\n",
    "            \"controllers\": [\"authController.js\", \"deviceController.js\", \"courseController.js\", \"chatController.js\", \"jobController.js\"],\n",
    "            \"models\": [\"User.js\", \"Device.js\", \"Course.js\", \"Chat.js\", \"Job.js\"],\n",
    "            \"routes\": [\"authRoutes.js\", \"deviceRoutes.js\", \"courseRoutes.js\", \"chatRoutes.js\", \"jobRoutes.js\"],\n",
    "            \"middlewares\": [\"authMiddleware.js\", \"errorHandler.js\"],\n",
    "            \"utils\": [\"helperFunctions.js\", \"dbConnection.js\"],\n",
    "            \"config\": [\"default.json\", \"production.json\"],\n",
    "            \"files\": [\"server.js\", \"database.js\", \".env\", \"package.json\"]\n",
    "        },\n",
    "        \"frontend\": {\n",
    "            \"public\": [\"index.html\", \"favicon.ico\", \"robots.txt\"],\n",
    "            \"src\": {\n",
    "                \"components\": [\"LandingPage.js\", \"LoginPage.js\", \"SignupPage.js\", \"HomePage.js\", \n",
    "                               \"Dashboard.js\", \"LearningPortal.js\", \"CoursesPage.js\", \n",
    "                               \"ChatRoom.js\", \"ProfilePage.js\", \"JobPortal.js\", \"SocialLifePage.js\", \n",
    "                               \"NavigationBar.js\", \"NotificationIcon.js\"],\n",
    "                \"assets\": {\n",
    "                    \"images\": [],\n",
    "                    \"styles\": [\"LandingPage.css\", \"LoginPage.css\", \"SignupPage.css\", \"HomePage.css\", \n",
    "                               \"Dashboard.css\", \"LearningPortal.css\", \"CoursesPage.css\", \n",
    "                               \"ChatRoom.css\", \"ProfilePage.css\", \"JobPortal.css\", \"SocialLifePage.css\"]\n",
    "                },\n",
    "                \"utils\": [\"apiService.js\", \"localStorage.js\"],\n",
    "                \"files\": [\"App.js\", \"index.js\", \"package.json\"]\n",
    "            }\n",
    "        },\n",
    "        \"database\": {\n",
    "            \"migrations\": [\"init.sql\"],\n",
    "            \"seeds\": [\"seedData.js\"],\n",
    "            \"files\": [\"db.sqlite\"]\n",
    "        },\n",
    "        \"files\": [\"README.md\"]\n",
    "    }\n",
    "}\n",
    "\n",
    "# Function to create files and folders\n",
    "def create_structure(base_path, structure):\n",
    "    for name, content in structure.items():\n",
    "        path = os.path.join(base_path, name)\n",
    "        if isinstance(content, dict):\n",
    "            os.makedirs(path, exist_ok=True)\n",
    "            create_structure(path, content)\n",
    "        elif isinstance(content, list):\n",
    "            os.makedirs(path, exist_ok=True)\n",
    "            for file in content:\n",
    "                open(os.path.join(path, file), 'w').close()\n",
    "        elif \"files\" in name:\n",
    "            for file in content:\n",
    "                open(os.path.join(base_path, file), 'w').close()\n",
    "\n",
    "# Create the folder structure\n",
    "base_path = os.getcwd()\n",
    "create_structure(base_path, structure)\n",
    "print(\"Folder structure successfully created!\")"
   ]
  }
 ],
 "metadata": {
  "kernelspec": {
   "display_name": "Python 3",
   "language": "python",
   "name": "python3"
  },
  "language_info": {
   "codemirror_mode": {
    "name": "ipython",
    "version": 3
   },
   "file_extension": ".py",
   "mimetype": "text/x-python",
   "name": "python",
   "nbconvert_exporter": "python",
   "pygments_lexer": "ipython3",
   "version": "3.9.6"
  }
 },
 "nbformat": 4,
 "nbformat_minor": 2
}
